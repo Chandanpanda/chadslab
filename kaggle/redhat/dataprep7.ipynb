{
 "cells": [
  {
   "cell_type": "code",
   "execution_count": 1,
   "metadata": {
    "collapsed": false
   },
   "outputs": [
    {
     "name": "stderr",
     "output_type": "stream",
     "text": [
      "/opt/conda/lib/python3.5/site-packages/sklearn/cross_validation.py:43: DeprecationWarning: This module was deprecated in version 0.18 in favor of the model_selection module into which all the refactored classes and functions are moved. Also note that the interface of the new CV iterators are different from that of this module. This module will be removed in 0.20.\n",
      "  \"This module will be removed in 0.20.\", DeprecationWarning)\n"
     ]
    }
   ],
   "source": [
    "import pandas as pd\n",
    "import numpy as np\n",
    "import datetime\n",
    "from itertools import product\n",
    "from scipy import interpolate ## For other interpolation functions.\n",
    "import time\n",
    "\n",
    "from sklearn.cross_validation import LabelKFold"
   ]
  },
  {
   "cell_type": "code",
   "execution_count": 2,
   "metadata": {
    "collapsed": true
   },
   "outputs": [],
   "source": [
    "# Load and transform people data. \n",
    "ppl = pd.read_csv('../input/people.csv')\n",
    "\n",
    "# Load activity data ...\n",
    "TrainActivs = pd.read_csv('../input/act_train.csv', )\n",
    "TestActivs = pd.read_csv('../input/act_test.csv')\n",
    "\n",
    "# ... and combine\n",
    "\n",
    "act = pd.concat([TrainActivs, TestActivs], axis=0) ## Append train and test sets."
   ]
  },
  {
   "cell_type": "code",
   "execution_count": 3,
   "metadata": {
    "collapsed": true
   },
   "outputs": [],
   "source": [
    "act = act.rename(columns={'date': 'adate'})\n",
    "ppl = ppl.rename(columns={'date': 'pdate'})"
   ]
  },
  {
   "cell_type": "code",
   "execution_count": 4,
   "metadata": {
    "collapsed": true
   },
   "outputs": [],
   "source": [
    "act['adate'] = pd.to_datetime(act['adate'])\n",
    "ppl['pdate'] = pd.to_datetime(ppl['pdate'])"
   ]
  },
  {
   "cell_type": "code",
   "execution_count": 5,
   "metadata": {
    "collapsed": true
   },
   "outputs": [],
   "source": [
    "cat_rename = {'type 4':4, 'type 2':2, 'type 3':3, 'type 5':5, 'type 1':1, 'type 7':7, 'type 6':6}\n",
    "\n",
    "act.activity_category = act.activity_category.replace(cat_rename)"
   ]
  },
  {
   "cell_type": "code",
   "execution_count": 6,
   "metadata": {
    "collapsed": false
   },
   "outputs": [],
   "source": [
    "groups_unique = ppl.group_1.unique()\n",
    "\n",
    "g_remap = []\n",
    "for g in groups_unique:\n",
    "    g_remap.append([g, int(g[6:])])\n",
    "\n",
    "df_g_remap = pd.DataFrame(g_remap)\n",
    "df_g_remap.columns = ['group_1', '_group_1']"
   ]
  },
  {
   "cell_type": "code",
   "execution_count": 7,
   "metadata": {
    "collapsed": false
   },
   "outputs": [],
   "source": [
    "ppl = pd.merge(ppl, df_g_remap, on='group_1', how='left')"
   ]
  },
  {
   "cell_type": "code",
   "execution_count": 8,
   "metadata": {
    "collapsed": false
   },
   "outputs": [],
   "source": [
    "ppl.drop('group_1', axis=1, inplace=True)\n",
    "ppl.rename(columns={'_group_1':'group_1'}, inplace=True)"
   ]
  },
  {
   "cell_type": "code",
   "execution_count": 9,
   "metadata": {
    "collapsed": false
   },
   "outputs": [],
   "source": [
    "keyset_typed = ['char_1', 'char_2', 'char_3', 'char_4', 'char_5', 'char_6', 'char_7', 'char_8', 'char_9']\n",
    "for key in keyset_typed:        \n",
    "    key_unique = ppl[key].unique()\n",
    "\n",
    "    k_remap = []\n",
    "    for k in key_unique:\n",
    "        k_remap.append([k, int(k[5:]) - 1])\n",
    "        \n",
    "    df_k_remap = pd.DataFrame(k_remap)\n",
    "    df_k_remap.columns = ['{0}'.format(key), '_{0}'.format(key)]     \n",
    "    \n",
    "    ppl = pd.merge(ppl, df_k_remap, on=key, how='left')\n",
    "    "
   ]
  },
  {
   "cell_type": "code",
   "execution_count": 10,
   "metadata": {
    "collapsed": true
   },
   "outputs": [],
   "source": [
    "for key in keyset_typed:\n",
    "    try:\n",
    "        ppl.drop(key, axis=1, inplace=True)\n",
    "    except:\n",
    "        None\n",
    "        \n",
    "    ppl.rename(columns={'_{0}'.format(key): '{0}'.format(key)}, inplace=True)"
   ]
  },
  {
   "cell_type": "code",
   "execution_count": 11,
   "metadata": {
    "collapsed": false
   },
   "outputs": [],
   "source": [
    "for key in ppl.keys():\n",
    "    if 'char' not in key:\n",
    "        continue\n",
    "        \n",
    "    ppl.rename(columns={'{0}'.format(key): 'p{0}'.format(key)}, inplace=True)\n",
    "        "
   ]
  },
  {
   "cell_type": "code",
   "execution_count": 12,
   "metadata": {
    "collapsed": false
   },
   "outputs": [
    {
     "data": {
      "text/plain": [
       "Index(['people_id', 'pdate', 'pchar_10', 'pchar_11', 'pchar_12', 'pchar_13',\n",
       "       'pchar_14', 'pchar_15', 'pchar_16', 'pchar_17', 'pchar_18', 'pchar_19',\n",
       "       'pchar_20', 'pchar_21', 'pchar_22', 'pchar_23', 'pchar_24', 'pchar_25',\n",
       "       'pchar_26', 'pchar_27', 'pchar_28', 'pchar_29', 'pchar_30', 'pchar_31',\n",
       "       'pchar_32', 'pchar_33', 'pchar_34', 'pchar_35', 'pchar_36', 'pchar_37',\n",
       "       'pchar_38', 'group_1', 'pchar_1', 'pchar_2', 'pchar_3', 'pchar_4',\n",
       "       'pchar_5', 'pchar_6', 'pchar_7', 'pchar_8', 'pchar_9'],\n",
       "      dtype='object')"
      ]
     },
     "execution_count": 12,
     "metadata": {},
     "output_type": "execute_result"
    }
   ],
   "source": [
    "ppl.keys()"
   ]
  },
  {
   "cell_type": "code",
   "execution_count": 13,
   "metadata": {
    "collapsed": true
   },
   "outputs": [],
   "source": [
    "keyset_typed = ['char_1', 'char_10', 'char_2', 'char_3', 'char_4', 'char_5', 'char_6', 'char_7', 'char_8', 'char_9']\n",
    "for key in keyset_typed:        \n",
    "    act[key].fillna('type 0', inplace=True)\n",
    "    key_unique = act[key].unique()\n",
    "\n",
    "    k_remap = []\n",
    "    for k in key_unique:\n",
    "        k_remap.append([k, int(k[5:]) - 1])\n",
    "        \n",
    "    df_k_remap = pd.DataFrame(k_remap)\n",
    "    df_k_remap.columns = ['{0}'.format(key), '_{0}'.format(key)]     \n",
    "    \n",
    "    act = pd.merge(act, df_k_remap, on=key, how='left')\n"
   ]
  },
  {
   "cell_type": "code",
   "execution_count": 14,
   "metadata": {
    "collapsed": true
   },
   "outputs": [],
   "source": [
    "for key in keyset_typed:\n",
    "    act.drop(key, axis=1, inplace=True)\n",
    "        \n",
    "    act.rename(columns={'_{0}'.format(key): 'a{0}'.format(key)}, inplace=True)"
   ]
  },
  {
   "cell_type": "code",
   "execution_count": 15,
   "metadata": {
    "collapsed": false
   },
   "outputs": [
    {
     "data": {
      "text/plain": [
       "Index(['activity_category', 'activity_id', 'adate', 'outcome', 'people_id',\n",
       "       'achar_1', 'achar_10', 'achar_2', 'achar_3', 'achar_4', 'achar_5',\n",
       "       'achar_6', 'achar_7', 'achar_8', 'achar_9'],\n",
       "      dtype='object')"
      ]
     },
     "execution_count": 15,
     "metadata": {},
     "output_type": "execute_result"
    }
   ],
   "source": [
    "act.keys()"
   ]
  },
  {
   "cell_type": "code",
   "execution_count": 16,
   "metadata": {
    "collapsed": true
   },
   "outputs": [],
   "source": [
    "pid_unique = ppl.people_id.unique()\n",
    "\n",
    "pid_remap = []\n",
    "for pid in pid_unique:\n",
    "    try:\n",
    "        pid_remap.append([pid, int(pid[4:])])\n",
    "    except: # 1e+05 etc\n",
    "        pid_remap.append([pid, int(float(pid[4:]))])\n",
    "#        print(pid_remap[-1])\n",
    "\n",
    "df_p_remap = pd.DataFrame(pid_remap)\n",
    "df_p_remap.columns = ['people_id', '_people_id']"
   ]
  },
  {
   "cell_type": "code",
   "execution_count": 17,
   "metadata": {
    "collapsed": false
   },
   "outputs": [],
   "source": [
    "ppl = pd.merge(ppl, df_p_remap, on='people_id')\n",
    "ppl.drop('people_id', axis=1, inplace=True)\n",
    "ppl.rename(columns={'_people_id':'people_id'}, inplace=True)"
   ]
  },
  {
   "cell_type": "code",
   "execution_count": 18,
   "metadata": {
    "collapsed": true
   },
   "outputs": [],
   "source": [
    "act = pd.merge(act, df_p_remap, on='people_id')\n",
    "act.drop('people_id', axis=1, inplace=True)\n",
    "act.rename(columns={'_people_id':'people_id'}, inplace=True)"
   ]
  },
  {
   "cell_type": "code",
   "execution_count": 19,
   "metadata": {
    "collapsed": true
   },
   "outputs": [],
   "source": [
    "output = pd.merge(act, ppl, on='people_id', how='left')"
   ]
  },
  {
   "cell_type": "code",
   "execution_count": 21,
   "metadata": {
    "collapsed": false
   },
   "outputs": [
    {
     "data": {
      "text/plain": [
       "Index(['activity_category', 'activity_id', 'adate', 'outcome', 'achar_1',\n",
       "       'achar_10', 'achar_2', 'achar_3', 'achar_4', 'achar_5', 'achar_6',\n",
       "       'achar_7', 'achar_8', 'achar_9', 'people_id', 'pdate', 'pchar_10',\n",
       "       'pchar_11', 'pchar_12', 'pchar_13', 'pchar_14', 'pchar_15', 'pchar_16',\n",
       "       'pchar_17', 'pchar_18', 'pchar_19', 'pchar_20', 'pchar_21', 'pchar_22',\n",
       "       'pchar_23', 'pchar_24', 'pchar_25', 'pchar_26', 'pchar_27', 'pchar_28',\n",
       "       'pchar_29', 'pchar_30', 'pchar_31', 'pchar_32', 'pchar_33', 'pchar_34',\n",
       "       'pchar_35', 'pchar_36', 'pchar_37', 'pchar_38', 'group_1', 'pchar_1',\n",
       "       'pchar_2', 'pchar_3', 'pchar_4', 'pchar_5', 'pchar_6', 'pchar_7',\n",
       "       'pchar_8', 'pchar_9'],\n",
       "      dtype='object')"
      ]
     },
     "execution_count": 21,
     "metadata": {},
     "output_type": "execute_result"
    }
   ],
   "source": [
    "output.keys()"
   ]
  },
  {
   "cell_type": "code",
   "execution_count": 24,
   "metadata": {
    "collapsed": false
   },
   "outputs": [
    {
     "name": "stdout",
     "output_type": "stream",
     "text": [
      "activity_category int64 1 7\n",
      "activity_id object act1_1 act2_9e+05\n",
      "adate datetime64[ns] 2022-07-17 00:00:00 2023-08-31 00:00:00\n",
      "outcome float64 0.0 1.0\n",
      "achar_1 int64 -1 51\n",
      "achar_10 int64 -1 9250\n",
      "achar_2 int64 -1 31\n",
      "achar_3 int64 -1 10\n",
      "achar_4 int64 -1 6\n",
      "achar_5 int64 -1 6\n",
      "achar_6 int64 -1 4\n",
      "achar_7 int64 -1 7\n",
      "achar_8 int64 -1 17\n",
      "achar_9 int64 -1 18\n",
      "people_id int64 2 398238\n",
      "pdate datetime64[ns] 2020-05-18 00:00:00 2023-08-31 00:00:00\n",
      "pchar_10 bool False True\n",
      "pchar_11 bool False True\n",
      "pchar_12 bool False True\n",
      "pchar_13 bool False True\n",
      "pchar_14 bool False True\n",
      "pchar_15 bool False True\n",
      "pchar_16 bool False True\n",
      "pchar_17 bool False True\n",
      "pchar_18 bool False True\n",
      "pchar_19 bool False True\n",
      "pchar_20 bool False True\n",
      "pchar_21 bool False True\n",
      "pchar_22 bool False True\n",
      "pchar_23 bool False True\n",
      "pchar_24 bool False True\n",
      "pchar_25 bool False True\n",
      "pchar_26 bool False True\n",
      "pchar_27 bool False True\n",
      "pchar_28 bool False True\n",
      "pchar_29 bool False True\n",
      "pchar_30 bool False True\n",
      "pchar_31 bool False True\n",
      "pchar_32 bool False True\n",
      "pchar_33 bool False True\n",
      "pchar_34 bool False True\n",
      "pchar_35 bool False True\n",
      "pchar_36 bool False True\n",
      "pchar_37 bool False True\n",
      "pchar_38 int64 0 100\n",
      "group_1 int64 1 51462\n",
      "pchar_1 int64 0 1\n",
      "pchar_2 int64 0 2\n",
      "pchar_3 int64 0 43\n",
      "pchar_4 int64 0 24\n",
      "pchar_5 int64 0 8\n",
      "pchar_6 int64 0 6\n",
      "pchar_7 int64 0 24\n",
      "pchar_8 int64 0 7\n",
      "pchar_9 int64 0 8\n"
     ]
    }
   ],
   "source": [
    "for k in output.keys():\n",
    "    print(k, output[k].dtype, np.min(output[k]), np.max(output[k]))\n",
    "    \n",
    "    if 'achar' in group:"
   ]
  },
  {
   "cell_type": "code",
   "execution_count": 33,
   "metadata": {
    "collapsed": false
   },
   "outputs": [
    {
     "name": "stdout",
     "output_type": "stream",
     "text": [
      "achar_1 int8 -1 51\n",
      "achar_10 int16 -1 9250\n",
      "achar_2 int8 -1 31\n",
      "achar_3 int8 -1 10\n",
      "achar_4 int8 -1 6\n",
      "achar_5 int8 -1 6\n",
      "achar_6 int8 -1 4\n",
      "achar_7 int8 -1 7\n",
      "achar_8 int8 -1 17\n",
      "achar_9 int8 -1 18\n",
      "people_id int32 2 398238\n",
      "pchar_10 uint8 0 1\n",
      "pchar_11 uint8 0 1\n",
      "pchar_12 uint8 0 1\n",
      "pchar_13 uint8 0 1\n",
      "pchar_14 uint8 0 1\n",
      "pchar_15 uint8 0 1\n",
      "pchar_16 uint8 0 1\n",
      "pchar_17 uint8 0 1\n",
      "pchar_18 uint8 0 1\n",
      "pchar_19 uint8 0 1\n",
      "pchar_20 uint8 0 1\n",
      "pchar_21 uint8 0 1\n",
      "pchar_22 uint8 0 1\n",
      "pchar_23 uint8 0 1\n",
      "pchar_24 uint8 0 1\n",
      "pchar_25 uint8 0 1\n",
      "pchar_26 uint8 0 1\n",
      "pchar_27 uint8 0 1\n",
      "pchar_28 uint8 0 1\n",
      "pchar_29 uint8 0 1\n",
      "pchar_30 uint8 0 1\n",
      "pchar_31 uint8 0 1\n",
      "pchar_32 uint8 0 1\n",
      "pchar_33 uint8 0 1\n",
      "pchar_34 uint8 0 1\n",
      "pchar_35 uint8 0 1\n",
      "pchar_36 uint8 0 1\n",
      "pchar_37 uint8 0 1\n",
      "pchar_38 uint8 0 100\n",
      "group_1 uint16 1 51462\n",
      "pchar_1 uint8 0 1\n",
      "pchar_2 uint8 0 2\n",
      "pchar_3 uint8 0 43\n",
      "pchar_4 uint8 0 24\n",
      "pchar_5 uint8 0 8\n",
      "pchar_6 uint8 0 6\n",
      "pchar_7 uint8 0 24\n",
      "pchar_8 uint8 0 7\n",
      "pchar_9 uint8 0 8\n"
     ]
    }
   ],
   "source": [
    "for k in output.keys():\n",
    "    if k == 'achar_10':\n",
    "        output[k] = output[k].astype(np.int16)\n",
    "        print(k, output[k].dtype, np.min(output[k]), np.max(output[k]))\n",
    "    elif 'achar' in k:\n",
    "        output[k] = output[k].astype(np.int8)\n",
    "        print(k, output[k].dtype, np.min(output[k]), np.max(output[k]))\n",
    "    elif 'pchar' in k:\n",
    "        output[k] = output[k].astype(np.uint8)\n",
    "        print(k, output[k].dtype, np.min(output[k]), np.max(output[k]))\n",
    "    elif k == 'people_id':\n",
    "        output[k] = output[k].astype(np.int32)\n",
    "        print(k, output[k].dtype, np.min(output[k]), np.max(output[k]))\n",
    "    elif k == 'group_1':\n",
    "        output[k] = output[k].astype(np.uint16)\n",
    "        print(k, output[k].dtype, np.min(output[k]), np.max(output[k]))\n"
   ]
  },
  {
   "cell_type": "code",
   "execution_count": 34,
   "metadata": {
    "collapsed": true
   },
   "outputs": [],
   "source": [
    "# gzip this afterwards, goes from ~295MB to 33.8MB\n",
    "output.to_pickle('merged7.pkl')"
   ]
  },
  {
   "cell_type": "code",
   "execution_count": null,
   "metadata": {
    "collapsed": true
   },
   "outputs": [],
   "source": []
  }
 ],
 "metadata": {
  "anaconda-cloud": {},
  "kernelspec": {
   "display_name": "Python [Root]",
   "language": "python",
   "name": "Python [Root]"
  },
  "language_info": {
   "codemirror_mode": {
    "name": "ipython",
    "version": 3
   },
   "file_extension": ".py",
   "mimetype": "text/x-python",
   "name": "python",
   "nbconvert_exporter": "python",
   "pygments_lexer": "ipython3",
   "version": "3.5.2"
  }
 },
 "nbformat": 4,
 "nbformat_minor": 0
}
